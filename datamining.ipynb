{
  "nbformat": 4,
  "nbformat_minor": 0,
  "metadata": {
    "colab": {
      "provenance": [],
      "authorship_tag": "ABX9TyN8q1Q4tvEKRxfY2iGOkQXk",
      "include_colab_link": true
    },
    "kernelspec": {
      "name": "python3",
      "display_name": "Python 3"
    },
    "language_info": {
      "name": "python"
    }
  },
  "cells": [
    {
      "cell_type": "markdown",
      "metadata": {
        "id": "view-in-github",
        "colab_type": "text"
      },
      "source": [
        "<a href=\"https://colab.research.google.com/github/mhmdtaha1999/DataClassification/blob/main/datamining.ipynb\" target=\"_parent\"><img src=\"https://colab.research.google.com/assets/colab-badge.svg\" alt=\"Open In Colab\"/></a>"
      ]
    },
    {
      "cell_type": "code",
      "execution_count": null,
      "metadata": {
        "id": "7Lwa2Uc-FmQP"
      },
      "outputs": [],
      "source": [
        "from math import sqrt\n",
        "import numpy as np\n",
        "from google.colab import drive\n",
        "import os\n",
        "import pandas as pd\n",
        "import csv"
      ]
    },
    {
      "cell_type": "markdown",
      "source": [],
      "metadata": {
        "id": "_NwZnD6cIMdI"
      }
    },
    {
      "cell_type": "code",
      "source": [
        "drive.mount('/content/drive')\n",
        "\n",
        "trainFile = pd.read_csv('/content/drive/My Drive/train.csv')\n",
        "testFile = pd.read_csv('/content/drive/My Drive/test.csv')\n",
        "\n",
        "print(trainFile.columns)\n",
        "\n",
        "trainFile.columns = ['feature_1', 'feature_2', 'feature_3', 'feature_4', 'label']\n",
        "\n",
        "y_train = trainFile['label']\n",
        "\n",
        "\n",
        "x_train = trainFile.drop('label', axis=1)\n",
        "\n",
        "\n",
        "x_train.to_csv('/content/drive/My Drive/x_train.csv', index=False)\n",
        "y_train.to_csv('/content/drive/My Drive/y_train.csv', index=False)\n",
        "\n",
        "testFile.columns = ['feature_1', 'feature_2', 'feature_3', 'feature_4', 'label']\n",
        "y_test = testFile['label']\n",
        "\n",
        "\n",
        "x_test = testFile.drop('label', axis=1)\n",
        "\n",
        "\n",
        "x_test.to_csv('/content/drive/My Drive/x_test.csv', index=False)\n",
        "y_test.to_csv('/content/drive/My Drive/y_test.csv', index=False)\n"
      ],
      "metadata": {
        "colab": {
          "base_uri": "https://localhost:8080/"
        },
        "id": "uN5T-siYINL_",
        "outputId": "41889e8a-0538-42a2-aaf0-00bad86f757f"
      },
      "execution_count": null,
      "outputs": [
        {
          "output_type": "stream",
          "name": "stdout",
          "text": [
            "Drive already mounted at /content/drive; to attempt to forcibly remount, call drive.mount(\"/content/drive\", force_remount=True).\n",
            "Index(['5.1', '3.5', '1.4', '0.2', '1'], dtype='object')\n"
          ]
        }
      ]
    },
    {
      "cell_type": "code",
      "source": [
        "import numpy as np\n",
        "\n",
        "class KNN:\n",
        "    def __init__(self, k):\n",
        "        self.k = k\n",
        "\n",
        "    def fit(self, X_train, y_train):\n",
        "        self.X_train = X_train\n",
        "        self.y_train = y_train\n",
        "\n",
        "    def predict(self, X_test):\n",
        "        y_pred = []\n",
        "        for x in X_test:\n",
        "\n",
        "            distances = [np.sqrt(np.sum((x - x_train)**2)) for x_train in self.X_train]\n",
        "\n",
        "            k_indices = np.argsort(distances)[:self.k]\n",
        "            k_nearest_labels = [self.y_train[i] for i in k_indices]\n",
        "\n",
        "            counts = np.bincount(k_nearest_labels)\n",
        "            label = np.argmax(counts)\n",
        "            y_pred.append(label)\n",
        "        return np.array(y_pred)"
      ],
      "metadata": {
        "id": "M-Z1qQlMVn2k"
      },
      "execution_count": null,
      "outputs": []
    },
    {
      "cell_type": "code",
      "source": [
        "def euclidean_distance(point1, point2):\n",
        "    return np.sqrt(np.sum((point1 - point2) ** 2))\n",
        "\n",
        "\n",
        "def initialize_centroids(data, k):\n",
        "    indices = np.random.choice(len(data), k, replace=False)\n",
        "    return data[indices]\n",
        "\n",
        "\n",
        "def assign_clusters(data, centroids):\n",
        "    clusters = [[] for _ in range(len(centroids))]\n",
        "    for point in data:\n",
        "        distances = [euclidean_distance(point, centroid) for centroid in centroids]\n",
        "        cluster_index = np.argmin(distances)\n",
        "        clusters[cluster_index].append(point)\n",
        "    return clusters\n",
        "\n",
        "\n",
        "def update_centroids(clusters):\n",
        "    centroids = [np.mean(cluster, axis=0) for cluster in clusters]\n",
        "    return np.array(centroids)\n",
        "\n",
        "\n",
        "def has_converged(old_centroids, centroids, tol=1e-4):\n",
        "    return np.all(np.abs(np.array(centroids) - np.array(old_centroids)) < tol)\n",
        "\n",
        "def kmeans(data, k, max_iter=100):\n",
        "    centroids = initialize_centroids(data, k)\n",
        "    for _ in range(max_iter):\n",
        "        old_centroids = centroids.copy()\n",
        "        clusters = assign_clusters(data, centroids)\n",
        "        centroids = update_centroids(clusters)\n",
        "        if has_converged(old_centroids, centroids):\n",
        "            break\n",
        "    return centroids, clusters\n",
        "\n",
        "\n",
        "k = 3\n",
        "centroids, clusters = kmeans(x_train.to_numpy(), k)\n",
        "\n",
        "\n",
        "for i, centroid in enumerate(centroids):\n",
        "    print(f\"Cluster {i+1} centroid: {centroid}\")\n",
        "    print(f\"Number of points in Cluster {i+1}: {len(clusters[i])}\")"
      ],
      "metadata": {
        "colab": {
          "base_uri": "https://localhost:8080/"
        },
        "id": "OIPqKCYoNbkx",
        "outputId": "882e302e-e06e-4f85-fc73-082bd4d009cd"
      },
      "execution_count": null,
      "outputs": [
        {
          "output_type": "stream",
          "name": "stdout",
          "text": [
            "Cluster 1 centroid: [5.04411765 3.46764706 1.47941176 0.24411765]\n",
            "Number of points in Cluster 1: 34\n",
            "Cluster 2 centroid: [5.79761905 2.71666667 4.35238095 1.42619048]\n",
            "Number of points in Cluster 2: 42\n",
            "Cluster 3 centroid: [6.95       3.06538462 5.83076923 2.01153846]\n",
            "Number of points in Cluster 3: 26\n"
          ]
        }
      ]
    },
    {
      "cell_type": "code",
      "source": [
        "def find_nearest_cluster(test_samples, cluster_centers):\n",
        "    nearest_clusters = []\n",
        "    for test_sample in test_samples:\n",
        "        distances = [euclidean_distance(test_sample, center) for center in cluster_centers]\n",
        "        nearest_cluster = np.argmin(distances)\n",
        "        nearest_clusters.append(nearest_cluster)\n",
        "    return nearest_clusters\n",
        "\n",
        "cluster_centers = centroids\n",
        "nearest_clusters = find_nearest_cluster(x_test.to_numpy(), cluster_centers)\n",
        "\n",
        "\n",
        "for i, nearest_cluster in enumerate(nearest_clusters):\n",
        "    print(f\"Test sample {i+1} is closest to cluster {nearest_cluster+1}\")\n",
        "\n"
      ],
      "metadata": {
        "colab": {
          "base_uri": "https://localhost:8080/"
        },
        "id": "tyUfZGxmTQuq",
        "outputId": "318cd407-f245-4e78-dc92-783abb7253fe"
      },
      "execution_count": null,
      "outputs": [
        {
          "output_type": "stream",
          "name": "stdout",
          "text": [
            "Test sample 1 is closest to cluster 1\n",
            "Test sample 2 is closest to cluster 1\n",
            "Test sample 3 is closest to cluster 1\n",
            "Test sample 4 is closest to cluster 1\n",
            "Test sample 5 is closest to cluster 1\n",
            "Test sample 6 is closest to cluster 1\n",
            "Test sample 7 is closest to cluster 1\n",
            "Test sample 8 is closest to cluster 1\n",
            "Test sample 9 is closest to cluster 1\n",
            "Test sample 10 is closest to cluster 1\n",
            "Test sample 11 is closest to cluster 1\n",
            "Test sample 12 is closest to cluster 1\n",
            "Test sample 13 is closest to cluster 1\n",
            "Test sample 14 is closest to cluster 1\n",
            "Test sample 15 is closest to cluster 2\n",
            "Test sample 16 is closest to cluster 2\n",
            "Test sample 17 is closest to cluster 2\n",
            "Test sample 18 is closest to cluster 2\n",
            "Test sample 19 is closest to cluster 2\n",
            "Test sample 20 is closest to cluster 2\n",
            "Test sample 21 is closest to cluster 2\n",
            "Test sample 22 is closest to cluster 2\n",
            "Test sample 23 is closest to cluster 2\n",
            "Test sample 24 is closest to cluster 2\n",
            "Test sample 25 is closest to cluster 2\n",
            "Test sample 26 is closest to cluster 2\n",
            "Test sample 27 is closest to cluster 2\n",
            "Test sample 28 is closest to cluster 3\n",
            "Test sample 29 is closest to cluster 2\n",
            "Test sample 30 is closest to cluster 2\n",
            "Test sample 31 is closest to cluster 3\n",
            "Test sample 32 is closest to cluster 3\n",
            "Test sample 33 is closest to cluster 3\n",
            "Test sample 34 is closest to cluster 3\n",
            "Test sample 35 is closest to cluster 2\n",
            "Test sample 36 is closest to cluster 3\n",
            "Test sample 37 is closest to cluster 3\n",
            "Test sample 38 is closest to cluster 3\n",
            "Test sample 39 is closest to cluster 2\n",
            "Test sample 40 is closest to cluster 3\n",
            "Test sample 41 is closest to cluster 3\n",
            "Test sample 42 is closest to cluster 3\n",
            "Test sample 43 is closest to cluster 2\n",
            "Test sample 44 is closest to cluster 3\n",
            "Test sample 45 is closest to cluster 3\n",
            "Test sample 46 is closest to cluster 2\n"
          ]
        }
      ]
    },
    {
      "cell_type": "code",
      "source": [
        "k = 3  # مقدار بهینه برای k\n",
        "\n",
        "y_pred = []\n",
        "\n",
        "for cluster_id in range(len(clusters)):\n",
        "    cluster_data = np.array(clusters[cluster_id])\n",
        "    cluster_indices = np.where(np.array(nearest_clusters) == cluster_id)[0]\n",
        "\n",
        "    min_len = min(len(cluster_indices), len(cluster_data))\n",
        "    cluster_indices = cluster_indices[:min_len]\n",
        "    cluster_data = cluster_data[:min_len]\n",
        "\n",
        "    cluster_labels = np.array(y_train)[cluster_indices]\n",
        "\n",
        "    knn = KNN(k)\n",
        "    knn.fit(cluster_data, cluster_labels)\n",
        "\n",
        "    predicted_labels = knn.predict(x_test.to_numpy()[np.array(nearest_clusters) == cluster_id])\n",
        "\n",
        "    y_pred.extend(predicted_labels)\n",
        "\n",
        "print(\"Predicted labels:\", y_pred)\n"
      ],
      "metadata": {
        "colab": {
          "base_uri": "https://localhost:8080/"
        },
        "id": "AAIGfCuUVIB-",
        "outputId": "83d311ce-eba6-4f8f-fb2a-5894d0c09ed8"
      },
      "execution_count": null,
      "outputs": [
        {
          "output_type": "stream",
          "name": "stdout",
          "text": [
            "Predicted labels: [1, 1, 1, 1, 1, 1, 1, 1, 1, 1, 1, 1, 1, 1, 1, 1, 1, 1, 1, 1, 1, 1, 1, 1, 1, 1, 1, 1, 1, 1, 1, 1, 1, 2, 2, 2, 2, 2, 2, 2, 2, 2, 2, 2, 2, 2]\n"
          ]
        }
      ]
    },
    {
      "cell_type": "code",
      "source": [
        "from sklearn.metrics import accuracy_score, precision_score, recall_score, f1_score\n",
        "\n",
        "\n",
        "accuracy = accuracy_score(y_test, y_pred)\n",
        "precision = precision_score(y_test, y_pred, average='weighted')\n",
        "recall = recall_score(y_test, y_pred, average='weighted')\n",
        "f1 = f1_score(y_test, y_pred, average='weighted')\n",
        "\n",
        "\n",
        "print(\"Accuracy:\", accuracy)\n",
        "print(\"Precision:\", precision)\n",
        "print(\"Recall:\", recall)\n",
        "print(\"F1-score:\", f1)\n"
      ],
      "metadata": {
        "colab": {
          "base_uri": "https://localhost:8080/"
        },
        "id": "snVzmZfucC4G",
        "outputId": "0e752b4d-f190-489c-eff1-76578135828e"
      },
      "execution_count": null,
      "outputs": [
        {
          "output_type": "stream",
          "name": "stdout",
          "text": [
            "Accuracy: 0.30434782608695654\n",
            "Precision: 0.12911725955204217\n",
            "Recall: 0.30434782608695654\n",
            "F1-score: 0.18131359851988896\n"
          ]
        },
        {
          "output_type": "stream",
          "name": "stderr",
          "text": [
            "/usr/local/lib/python3.10/dist-packages/sklearn/metrics/_classification.py:1344: UndefinedMetricWarning: Precision is ill-defined and being set to 0.0 in labels with no predicted samples. Use `zero_division` parameter to control this behavior.\n",
            "  _warn_prf(average, modifier, msg_start, len(result))\n"
          ]
        }
      ]
    }
  ]
}